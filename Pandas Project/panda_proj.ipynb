{
 "cells": [
  {
   "cell_type": "markdown",
   "id": "4b5bba48",
   "metadata": {},
   "source": [
    "Superstore Sales Data Analysis :-\n",
    "\n",
    "📘 Project Overview\n",
    "\n",
    "1. A data analytics project using only Pandas on Superstore sales data to identify trends, patterns, and business insights related to product performance, customer behavior, and regional profitability.\n"
   ]
  },
  {
   "cell_type": "code",
   "execution_count": null,
   "id": "0a0fdfdf",
   "metadata": {},
   "outputs": [],
   "source": [
    "import pandas as pd\n",
    "df = pd.read_csv(\"Sample - Superstore.csv\")\n",
    "print(df.head())"
   ]
  }
 ],
 "metadata": {
  "language_info": {
   "name": "python"
  }
 },
 "nbformat": 4,
 "nbformat_minor": 5
}
